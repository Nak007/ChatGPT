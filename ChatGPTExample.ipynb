{
 "cells": [
  {
   "cell_type": "code",
   "execution_count": 1,
   "id": "8a1a0986-1f0e-4c58-a86c-57dc5db4c36f",
   "metadata": {},
   "outputs": [],
   "source": [
    "from ChatGPT import *"
   ]
  },
  {
   "cell_type": "code",
   "execution_count": 2,
   "id": "9d20c95c",
   "metadata": {},
   "outputs": [],
   "source": [
    "# Set your OpenAI API key\n",
    "api_key = \"YOUR_API_KEY_HERE\""
   ]
  },
  {
   "cell_type": "code",
   "execution_count": 20,
   "id": "09ed07a9-222b-4ee1-ac54-d3bb64b1ddad",
   "metadata": {},
   "outputs": [],
   "source": [
    "# print(ChatModels.__doc__)"
   ]
  },
  {
   "cell_type": "code",
   "execution_count": 4,
   "id": "89c92ac3",
   "metadata": {},
   "outputs": [],
   "source": [
    "model = ChatModels(api_key, model=\"gpt-4o-mini\")"
   ]
  },
  {
   "cell_type": "code",
   "execution_count": 5,
   "id": "0893f125-82cc-4dbb-b605-49f8eaad2fe4",
   "metadata": {},
   "outputs": [],
   "source": [
    "Questions = [\"What's the future of artificial intelligence? Your answer must be concise and descriptive.\",\n",
    "             \"Thanks! That was helpful\"]\n",
    "Bold = \"\\033[1m{}\\033[0m\".format"
   ]
  },
  {
   "cell_type": "code",
   "execution_count": 6,
   "id": "8fe4c727",
   "metadata": {},
   "outputs": [
    {
     "name": "stdout",
     "output_type": "stream",
     "text": [
      "-------------------- Question:1 -------------------- \n",
      "\n",
      "\u001b[1mUser:\u001b[0m What's the future of artificial intelligence? Your answer must be concise and descriptive. \n",
      "\n",
      "\u001b[1mChatGPT:\u001b[0m The future of artificial intelligence (AI) is poised for transformative advancements across multiple domains. We can expect greater integration of AI in everyday life, with improvements in natural language processing, computer vision, and machine learning driving enhanced human-computer interaction. \n",
      "\n",
      "Key trends include:\n",
      "\n",
      "1. **Automation and Efficiency**: AI will increasingly automate routine tasks in industries like manufacturing, healthcare, and logistics, leading to greater efficiency and cost savings.\n",
      "\n",
      "2. **Personalization**: AI will enhance personalized experiences in areas such as e-commerce, entertainment, and education, tailoring recommendations to individual preferences and behaviors.\n",
      "\n",
      "3. **Ethics and Governance**: As AI systems become more influential, there will be a stronger emphasis on ethical guidelines, transparency, and regulatory frameworks to address biases, privacy concerns, and accountability.\n",
      "\n",
      "4. **Collaborative Intelligence**: The future will see AI augmenting human capabilities, facilitating collaboration between humans and machines in decision-making processes.\n",
      "\n",
      "5. **Generalization and Adaptability**: Advances in AI research will lead to more generalized AI systems that can adapt to new tasks with minimal retraining.\n",
      "\n",
      "In summary, the future of AI is characterized by innovation, integration, and an evolving relationship with society that emphasizes ethical considerations and collaborative enhancement of human potential. \n",
      "\n",
      "-------------------- Question:2 -------------------- \n",
      "\n",
      "\u001b[1mUser:\u001b[0m Thanks! That was helpful \n",
      "\n",
      "\u001b[1mChatGPT:\u001b[0m You're welcome! I'm glad you found it helpful. If you have any more questions or need further information, feel free to ask! \n",
      "\n"
     ]
    }
   ],
   "source": [
    "for n,ask in enumerate(Questions,1):\n",
    "    print(\"-\"*20,f\"Question:{n}\",\"-\"*20, \"\\n\")\n",
    "    print(Bold(\"User:\"), ask, \"\\n\")\n",
    "    print(Bold(\"ChatGPT:\"), model.chat(ask),\"\\n\")"
   ]
  },
  {
   "cell_type": "markdown",
   "id": "ed44d563-30eb-4379-ad45-b20908fff529",
   "metadata": {},
   "source": [
    "Use `self.interactivechat` (Function) for interactive ChatGPT conversations. The conversation continues until the user types **\"exit\"** or **\"quit\"**."
   ]
  },
  {
   "cell_type": "code",
   "execution_count": 8,
   "id": "3e2b142b-5f21-42df-a5a9-d57d0cbab797",
   "metadata": {},
   "outputs": [
    {
     "name": "stdin",
     "output_type": "stream",
     "text": [
      "You:  quit\n"
     ]
    },
    {
     "name": "stdout",
     "output_type": "stream",
     "text": [
      "Assistant: This session has been terminated.\n"
     ]
    }
   ],
   "source": [
    "model.interactivechat()"
   ]
  },
  {
   "cell_type": "markdown",
   "id": "7175f04e-023a-4055-97f8-b551f746755a",
   "metadata": {},
   "source": [
    "View the conversation history in `self.chathistory` (Attribute)."
   ]
  },
  {
   "cell_type": "code",
   "execution_count": 10,
   "id": "f423ed4e-2994-4b8f-81c9-1a1b3c1c3aa7",
   "metadata": {},
   "outputs": [
    {
     "data": {
      "text/plain": [
       "[{'role': 'user',\n",
       "  'content': \"What's the future of artificial intelligence? Your answer must be concise and descriptive.\"},\n",
       " {'role': 'assistant',\n",
       "  'content': 'The future of artificial intelligence (AI) is poised for transformative advancements across multiple domains. We can expect greater integration of AI in everyday life, with improvements in natural language processing, computer vision, and machine learning driving enhanced human-computer interaction. \\n\\nKey trends include:\\n\\n1. **Automation and Efficiency**: AI will increasingly automate routine tasks in industries like manufacturing, healthcare, and logistics, leading to greater efficiency and cost savings.\\n\\n2. **Personalization**: AI will enhance personalized experiences in areas such as e-commerce, entertainment, and education, tailoring recommendations to individual preferences and behaviors.\\n\\n3. **Ethics and Governance**: As AI systems become more influential, there will be a stronger emphasis on ethical guidelines, transparency, and regulatory frameworks to address biases, privacy concerns, and accountability.\\n\\n4. **Collaborative Intelligence**: The future will see AI augmenting human capabilities, facilitating collaboration between humans and machines in decision-making processes.\\n\\n5. **Generalization and Adaptability**: Advances in AI research will lead to more generalized AI systems that can adapt to new tasks with minimal retraining.\\n\\nIn summary, the future of AI is characterized by innovation, integration, and an evolving relationship with society that emphasizes ethical considerations and collaborative enhancement of human potential.'},\n",
       " {'role': 'user', 'content': 'Thanks! That was helpful'},\n",
       " {'role': 'assistant',\n",
       "  'content': \"You're welcome! I'm glad you found it helpful. If you have any more questions or need further information, feel free to ask!\"}]"
      ]
     },
     "execution_count": 10,
     "metadata": {},
     "output_type": "execute_result"
    }
   ],
   "source": [
    "model.chathistory"
   ]
  },
  {
   "cell_type": "code",
   "execution_count": null,
   "id": "71026083-2a48-4224-9742-abe5c077d629",
   "metadata": {},
   "outputs": [],
   "source": []
  }
 ],
 "metadata": {
  "kernelspec": {
   "display_name": "Python 3 (ipykernel)",
   "language": "python",
   "name": "python3"
  },
  "language_info": {
   "codemirror_mode": {
    "name": "ipython",
    "version": 3
   },
   "file_extension": ".py",
   "mimetype": "text/x-python",
   "name": "python",
   "nbconvert_exporter": "python",
   "pygments_lexer": "ipython3",
   "version": "3.12.7"
  }
 },
 "nbformat": 4,
 "nbformat_minor": 5
}
